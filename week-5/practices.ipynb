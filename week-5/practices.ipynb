{
 "cells": [
  {
   "cell_type": "code",
   "execution_count": 21,
   "id": "b8a4c935-6d1e-47d7-ab0b-d945e412276c",
   "metadata": {},
   "outputs": [
    {
     "name": "stdout",
     "output_type": "stream",
     "text": [
      "I'm first call to user defined function!\n",
      "Again second call to the same function\n"
     ]
    }
   ],
   "source": [
    "def printme( str):\n",
    "    #This is a print function\n",
    "    print(str);\n",
    "    return;\n",
    "printme(\"I'm first call to user defined function!\");\n",
    "printme(\"Again second call to the same function\");"
   ]
  },
  {
   "cell_type": "code",
   "execution_count": 20,
   "id": "c9df6240-e6ac-4ea0-8d16-eb3c1d9a6291",
   "metadata": {},
   "outputs": [
    {
     "name": "stdout",
     "output_type": "stream",
     "text": [
      "Values inside function:  [10, 20, 30, [1, 2, 3, 4]]\n",
      "Values outside the function:  [10, 20, 30, [1, 2, 3, 4]]\n"
     ]
    }
   ],
   "source": [
    "def changeme( mylist):\n",
    "    #This changes a passed list\n",
    "    mylist.append([1,2,3,4])\n",
    "    print (\"Values inside function: \",mylist)\n",
    "    return\n",
    "mylist = [10,20,30]\n",
    "changeme( mylist )\n",
    "print (\"Values outside the function: \",mylist)"
   ]
  },
  {
   "cell_type": "code",
   "execution_count": 12,
   "id": "602612aa-90ed-46d4-8d0f-ff1c908b5a78",
   "metadata": {},
   "outputs": [
    {
     "name": "stdout",
     "output_type": "stream",
     "text": [
      "Values inside function [1, 2, 3, 4]\n",
      "Values outside the function:  [10, 20, 30]\n"
     ]
    }
   ],
   "source": [
    "def changeme( mylist ):\n",
    "    #This changes a passed list\n",
    "    mylist = [1,2,3,4];\n",
    "    print(\"Values inside function\" ,mylist)\n",
    "    return\n",
    "mylist = [10,20,30];\n",
    "changeme( mylist );\n",
    "print (\"Values outside the function: \", mylist)"
   ]
  },
  {
   "cell_type": "code",
   "execution_count": 25,
   "id": "52162b9b-196d-4e24-b893-33ef7c48f52b",
   "metadata": {},
   "outputs": [
    {
     "ename": "TypeError",
     "evalue": "printme() missing 1 required positional argument: 'str'",
     "output_type": "error",
     "traceback": [
      "\u001b[1;31m---------------------------------------------------------------------------\u001b[0m",
      "\u001b[1;31mTypeError\u001b[0m                                 Traceback (most recent call last)",
      "Cell \u001b[1;32mIn[25], line 5\u001b[0m\n\u001b[0;32m      3\u001b[0m     \u001b[38;5;28mprint\u001b[39m (\u001b[38;5;28mstr\u001b[39m);\n\u001b[0;32m      4\u001b[0m     \u001b[38;5;28;01mreturn\u001b[39;00m;\n\u001b[1;32m----> 5\u001b[0m printme()\n",
      "\u001b[1;31mTypeError\u001b[0m: printme() missing 1 required positional argument: 'str'"
     ]
    }
   ],
   "source": [
    "def printme( str):\n",
    "    #This prints a passed string\n",
    "    print (str);\n",
    "    return;\n",
    "printme();"
   ]
  },
  {
   "cell_type": "code",
   "execution_count": 28,
   "id": "f6849165-9b0f-46cd-91bb-5c9b486fc662",
   "metadata": {},
   "outputs": [
    {
     "name": "stdout",
     "output_type": "stream",
     "text": [
      "My string\n"
     ]
    }
   ],
   "source": [
    "def printme( str ):\n",
    "    #This prints a passed string\n",
    "    print (str);\n",
    "    return;\n",
    "printme(str = \"My string\");"
   ]
  },
  {
   "cell_type": "code",
   "execution_count": 35,
   "id": "108be13a-4963-4668-b1eb-8e47fba6c5e4",
   "metadata": {},
   "outputs": [
    {
     "name": "stdout",
     "output_type": "stream",
     "text": [
      "Name:  miki\n",
      "Age:  50\n"
     ]
    }
   ],
   "source": [
    "def printinfo( name, age ):\n",
    "    #Test function\n",
    "    print (\"Name: \", name);\n",
    "    print (\"Age: \", age);\n",
    "    return;\n",
    "printinfo( age=50, name=\"miki\" );"
   ]
  },
  {
   "cell_type": "code",
   "execution_count": 38,
   "id": "56caccb9-d2b0-47c9-b57a-4d04b0eb1aa1",
   "metadata": {},
   "outputs": [
    {
     "name": "stdout",
     "output_type": "stream",
     "text": [
      "Name:  miki\n",
      "Age:  50\n",
      "Name:  miki\n",
      "Age:  35\n"
     ]
    }
   ],
   "source": [
    "def printinfo( name, age = 35 ):\n",
    "    #Test function\n",
    "    print (\"Name: \", name);\n",
    "    print (\"Age: \", age);\n",
    "    return;\n",
    "printinfo( age=50, name=\"miki\" );\n",
    "printinfo( name=\"miki\" );"
   ]
  },
  {
   "cell_type": "code",
   "execution_count": 40,
   "id": "17deab95-8fe9-4911-8b96-3e50570cb5f8",
   "metadata": {},
   "outputs": [
    {
     "name": "stdout",
     "output_type": "stream",
     "text": [
      "Output is: \n",
      "10\n",
      "Output is: \n",
      "70\n",
      "60\n"
     ]
    }
   ],
   "source": [
    "def printinfo( arg1, *vartuple ):\n",
    "    #This is test\n",
    "    print (\"Output is: \")\n",
    "    print (arg1)\n",
    "    for var in vartuple:\n",
    "        print (var)\n",
    "        return;\n",
    "printinfo( 10);\n",
    "printinfo( 70, 60, 50);"
   ]
  },
  {
   "cell_type": "code",
   "execution_count": 42,
   "id": "2a435af0-a156-40b8-a712-148d6db1c1b1",
   "metadata": {},
   "outputs": [
    {
     "name": "stdout",
     "output_type": "stream",
     "text": [
      "Inside the function local total :  30\n",
      "Outside the function global total :  50\n"
     ]
    }
   ],
   "source": [
    "total = 50; # This is global variable\n",
    "def sum( arg1, arg2 ):\n",
    "    #Add both the parameters\n",
    "    total = arg1 + arg2\n",
    "    print (\"Inside the function local total : \", total)\n",
    "    return total;\n",
    "# Now you can call sum function\n",
    "sum( 10, 20);\n",
    "print (\"Outside the function global total : \", total)"
   ]
  },
  {
   "cell_type": "code",
   "execution_count": 46,
   "id": "a3520f73-4d8f-44fd-944c-b76eeee507b3",
   "metadata": {},
   "outputs": [
    {
     "name": "stdout",
     "output_type": "stream",
     "text": [
      "Lawal Edward Tolu Tina\n",
      "Mary\n"
     ]
    }
   ],
   "source": [
    "def swap( x, y):\n",
    "    global a\n",
    "    a = \"Lawal\"\n",
    "    x,y = y,x\n",
    "    b = \"Chris\"\n",
    "    b = \"Edward\"\n",
    "    c = \"Lola\"\n",
    "    print(a,b,x,y)\n",
    "    a = \"Mary\"\n",
    "swap(\"Tina\",\"Tolu\")\n",
    "print (a)"
   ]
  },
  {
   "cell_type": "code",
   "execution_count": 61,
   "id": "5cbf1c57-7d7d-4177-8dfa-e98304aeede0",
   "metadata": {},
   "outputs": [],
   "source": [
    "import tkinter as tk\n",
    "from tkinter import messagebox\n",
    "from PIL import Image, ImageTk\n",
    "# Handling button click event\n",
    "def button_click():\n",
    "    #print(\"Button clicked!\")\n",
    "\n",
    "    #Show information message box\n",
    "    messagebox.showinfo(\"Info\", \"Welcome to COS 102 GUI App!\\n\")\n",
    "\n",
    "  #Ask for user confirmation\n",
    "    result = messagebox.askyesno(\"Confirmation\", \"Do you want to continue?\")\n",
    "\n",
    "# Create the main window\n",
    "root = tk.Tk()\n",
    "root.title(\"Home page\")\n",
    "root.geometry(\"300x100\")\n",
    "\n",
    "#Add a label widget \n",
    "label = tk.Label(root, text =\"Hello Friend \\n\")\n",
    "label.pack()\n",
    "\n",
    "# Add a button widget\n",
    "button = tk.Button(root, text =\"Click me!\", command=button_click)\n",
    "button.pack()\n",
    "\n",
    "# Styling the button widget\n",
    "button.config(fg=\"red\",bg=\"yellow\")\n",
    "\n",
    "# Start the event loop\n",
    "root.mainloop()"
   ]
  },
  {
   "cell_type": "code",
   "execution_count": 59,
   "id": "8a3a7e4e-7ea3-49a6-b6a7-6c47e79a902d",
   "metadata": {},
   "outputs": [
    {
     "ename": "AttributeError",
     "evalue": "'str' object has no attribute 'tk'",
     "output_type": "error",
     "traceback": [
      "\u001b[1;31m---------------------------------------------------------------------------\u001b[0m",
      "\u001b[1;31mAttributeError\u001b[0m                            Traceback (most recent call last)",
      "Cell \u001b[1;32mIn[59], line 28\u001b[0m\n\u001b[0;32m     26\u001b[0m \u001b[38;5;66;03m# Create main window\u001b[39;00m\n\u001b[0;32m     27\u001b[0m root \u001b[38;5;241m=\u001b[39m tk\u001b[38;5;241m.\u001b[39mTk\n\u001b[1;32m---> 28\u001b[0m root\u001b[38;5;241m.\u001b[39mtitle(\u001b[38;5;124m\"\u001b[39m\u001b[38;5;124mLogin Form\u001b[39m\u001b[38;5;124m\"\u001b[39m) \n\u001b[0;32m     29\u001b[0m root\u001b[38;5;241m.\u001b[39mgeometry (\u001b[38;5;124m\"\u001b[39m\u001b[38;5;124m500x200\u001b[39m\u001b[38;5;124m\"\u001b[39m)\n\u001b[0;32m     32\u001b[0m \u001b[38;5;66;03m#Create username label and entry\u001b[39;00m\n",
      "File \u001b[1;32m~\\anaconda3\\Lib\\tkinter\\__init__.py:2282\u001b[0m, in \u001b[0;36mWm.wm_title\u001b[1;34m(self, string)\u001b[0m\n\u001b[0;32m   2280\u001b[0m \u001b[38;5;28;01mdef\u001b[39;00m \u001b[38;5;21mwm_title\u001b[39m(\u001b[38;5;28mself\u001b[39m, string\u001b[38;5;241m=\u001b[39m\u001b[38;5;28;01mNone\u001b[39;00m):\n\u001b[0;32m   2281\u001b[0m \u001b[38;5;250m    \u001b[39m\u001b[38;5;124;03m\"\"\"Set the title of this widget.\"\"\"\u001b[39;00m\n\u001b[1;32m-> 2282\u001b[0m     \u001b[38;5;28;01mreturn\u001b[39;00m \u001b[38;5;28mself\u001b[39m\u001b[38;5;241m.\u001b[39mtk\u001b[38;5;241m.\u001b[39mcall(\u001b[38;5;124m'\u001b[39m\u001b[38;5;124mwm\u001b[39m\u001b[38;5;124m'\u001b[39m, \u001b[38;5;124m'\u001b[39m\u001b[38;5;124mtitle\u001b[39m\u001b[38;5;124m'\u001b[39m, \u001b[38;5;28mself\u001b[39m\u001b[38;5;241m.\u001b[39m_w, string)\n",
      "\u001b[1;31mAttributeError\u001b[0m: 'str' object has no attribute 'tk'"
     ]
    }
   ],
   "source": [
    "import tkinter as tk \n",
    "from tkinter import messagebox \n",
    "from PIL import Image, ImageTk\n",
    "\n",
    "def welcomeMessage(username) :\n",
    "  # Create a Tkinter window\n",
    " window = tk. Toplevel(root)\n",
    " window. title(\"Admin Box\")\n",
    " window. geometry (\"500x200\")\n",
    " label_1 = tk. Label(window, text=f\"Welcome (username)\\n\")\n",
    " label_1. pack()\n",
    " label_2 = tk.Label(window, text=\"This is Python GUI with Tkinter\")\n",
    " label_2-pack()\n",
    "# Run the Tkinter event Loop\n",
    "root.mainloop()\n",
    "\n",
    "def submit():\n",
    " username - username_entry-get()\n",
    " password = password_entry -get()\n",
    "\n",
    " if username == \"Mary\" and password == \"cos102\":\n",
    "    welcomeMessage (username)\n",
    " else:\n",
    "    messagebox. showerror (\"Login\", \"Invalid username or password\")\n",
    "\n",
    "# Create main window\n",
    "root = tk.Tk\n",
    "root.title(\"Login Form\") \n",
    "root.geometry (\"500x200\")\n",
    "\n",
    "\n",
    "#Create username label and entry\n",
    "username_label = tk.Label(root, text=\"Username:\")\n",
    "username_label.pack()\n",
    "username_entry = tk. Entry(root)\n",
    "username_entry.pack()\n",
    "# Create password Label and entry\n",
    "password_label = tk. Label(root, text=\"Password:\")\n",
    "password_label.pack()\n",
    "password_entry = tk. Entry(root, show=\"*\")\n",
    "password_entry.pack()\n",
    "# Create submit button\n",
    "submit_button = tk.Button(root,text=\"Submit\",command=submit)\n",
    "submit_button-pack()\n",
    "# Run the main event Loop\n",
    "root.mainloop()\n"
   ]
  },
  {
   "cell_type": "code",
   "execution_count": null,
   "id": "d9a2f0c9-b264-4b6b-91a8-708404bbef82",
   "metadata": {},
   "outputs": [],
   "source": [
    "# Create main window\n",
    "root = tk.Tk\n",
    "root. title(\"Login Form\") \n",
    "root geometry (\"500x200\")\n",
    "\n",
    "\n",
    "#Create username label and entry\n",
    "username_label = tk.Label(root, text=\"Username:\")\n",
    "username_\n",
    "_label. pack()\n",
    "username_entry = tk. Entry(root)\n",
    "username_entry •pack()\n",
    "# Create password Label and entry\n",
    "password_label = tk. Label(root, text=\"Password:\")\n",
    "password label.pack)\n",
    "password_entry = tk. Entry(root, show=\"*)\n",
    "password_entry •pack()\n",
    "# Create submit button\n",
    "submit_button = tk.Button (root,\n",
    "text=\"Submit\"\n",
    "submit_button-pack()\n",
    "# Run the main event Loop\n",
    "root.mainloop()\n",
    "command=submit)"
   ]
  },
  {
   "cell_type": "code",
   "execution_count": null,
   "id": "56705daf-4054-45e4-b846-79145add6da0",
   "metadata": {},
   "outputs": [],
   "source": []
  }
 ],
 "metadata": {
  "kernelspec": {
   "display_name": "Python 3 (ipykernel)",
   "language": "python",
   "name": "python3"
  },
  "language_info": {
   "codemirror_mode": {
    "name": "ipython",
    "version": 3
   },
   "file_extension": ".py",
   "mimetype": "text/x-python",
   "name": "python",
   "nbconvert_exporter": "python",
   "pygments_lexer": "ipython3",
   "version": "3.11.7"
  }
 },
 "nbformat": 4,
 "nbformat_minor": 5
}
