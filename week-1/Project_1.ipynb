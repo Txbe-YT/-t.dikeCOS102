{
 "cells": [
  {
   "cell_type": "code",
   "execution_count": 20,
   "id": "7181d635-b2b4-4709-b5e3-99dc9d05b6f8",
   "metadata": {},
   "outputs": [
    {
     "name": "stdin",
     "output_type": "stream",
     "text": [
      "Enter principal 3\n",
      "Enter Rate 2\n",
      "Enter Time 3\n"
     ]
    },
    {
     "name": "stdout",
     "output_type": "stream",
     "text": [
      "The total amount including the Simple interest is 3.18\n"
     ]
    },
    {
     "name": "stdin",
     "output_type": "stream",
     "text": [
      "Enter principal 4\n",
      "Enter Rate 3\n",
      "Enter Time 2\n",
      "enter n value 34\n",
      "Enter t value 3\n"
     ]
    },
    {
     "name": "stdout",
     "output_type": "stream",
     "text": [
      "The total amount including the Compound interest is 22273.38930049203\n"
     ]
    },
    {
     "name": "stdin",
     "output_type": "stream",
     "text": [
      "Enter principal 3\n",
      "Enter Rate 2\n",
      "enter n value 3\n",
      "Enter Time 1\n",
      "Enter t value 3\n"
     ]
    },
    {
     "name": "stdout",
     "output_type": "stream",
     "text": [
      "The total amount including the annuity plan is 884.0612711476901\n"
     ]
    }
   ],
   "source": [
    "# Simple Interest\n",
    "P = int(input(\"Enter principal\"))\n",
    "R = int(input(\"Enter Rate\"))\n",
    "T = int(input(\"Enter Time\"))\n",
    "A = P*(1 +(R/100)*T)\n",
    "print(\"The total amount including the Simple interest is\",A)\n",
    "\n",
    "# Compound Interest\n",
    "P = int(input(\"Enter principal\"))\n",
    "R = int(input(\"Enter Rate\"))\n",
    "T = int(input(\"Enter Time\"))\n",
    "n = int(input(\"enter n value\"))\n",
    "t = int (input(\"Enter t value\"))\n",
    "A = P*(1 + R / n )**(n*t)\n",
    "print(\"The total amount including the Compound interest is\", A)\n",
    "\n",
    "# Annuity plan\n",
    "P = int(input(\"Enter principal\"))\n",
    "R = int(input(\"Enter Rate\"))\n",
    "n = int(input(\"enter n value\"))\n",
    "T = int(input(\"Enter Time\"))\n",
    "t = int (input(\"Enter t value\"))\n",
    "A = P*R*T * (((1+ (R / n))**(n*t) - 1) / (R / n))\n",
    "print(\"The total amount including the annuity plan is\", A)\n"
   ]
  },
  {
   "cell_type": "code",
   "execution_count": null,
   "id": "23ef1548-7c2e-41f6-9b61-c1176e8f582e",
   "metadata": {},
   "outputs": [],
   "source": []
  },
  {
   "cell_type": "code",
   "execution_count": null,
   "id": "d8771925-225f-420a-9b1b-8052ed6b7fe0",
   "metadata": {},
   "outputs": [],
   "source": []
  }
 ],
 "metadata": {
  "kernelspec": {
   "display_name": "Python 3 (ipykernel)",
   "language": "python",
   "name": "python3"
  },
  "language_info": {
   "codemirror_mode": {
    "name": "ipython",
    "version": 3
   },
   "file_extension": ".py",
   "mimetype": "text/x-python",
   "name": "python",
   "nbconvert_exporter": "python",
   "pygments_lexer": "ipython3",
   "version": "3.11.7"
  }
 },
 "nbformat": 4,
 "nbformat_minor": 5
}
