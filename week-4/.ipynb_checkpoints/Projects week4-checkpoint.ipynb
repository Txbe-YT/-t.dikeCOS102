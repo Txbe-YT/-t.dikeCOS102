{
 "cells": [
  {
   "cell_type": "code",
   "execution_count": 3,
   "id": "a0cd946f-b19e-4676-b5eb-f4f4d24e6605",
   "metadata": {},
   "outputs": [
    {
     "name": "stdout",
     "output_type": "stream",
     "text": [
      "Girls Information\n"
     ]
    }
   ],
   "source": [
    "# STUDENT REGISTER\n",
    "\n",
    "print(\"Girls Information\")\n",
    "girls_name = {'Everlyn','Jessica','Somto','Edith','Lisa','Madonna','Waje','Tola','Aisha','Lafita'}\n",
    "girls_age = {17,16,17,16,18,17,28,19,17}\n",
    "girls_height = {5.5, 6.0, 5.4, 5.9, 5.6, 5.5, 6.1, 6.0, 5.7, 5.5}\n",
    "girls_score = {80, 85, 70, 60, 76, 60, 66, 87, 95, 50, 49}\n",
    "\n",
    "print("
   ]
  },
  {
   "cell_type": "code",
   "execution_count": 5,
   "id": "c5004010-996d-460c-afee-d1b3ddf5f6b1",
   "metadata": {},
   "outputs": [
    {
     "name": "stdout",
     "output_type": "stream",
     "text": [
      "WELCOME TO IZIFIN TECHNOLOGY\n"
     ]
    },
    {
     "name": "stdin",
     "output_type": "stream",
     "text": [
      "Enter you number of ears of experience :  27\n",
      "Enter your age :  90\n"
     ]
    },
    {
     "name": "stdout",
     "output_type": "stream",
     "text": [
      "Your Annual Tax Revenue(ATR) is N5600000\n"
     ]
    }
   ],
   "source": [
    "print(\"WELCOME TO IZIFIN TECHNOLOGY\")\n",
    "years = float(input('Enter you number of ears of experience : '))\n",
    "age = float(input('Enter your age : '))\n",
    "\n",
    "if years > 25 and age >= 55:\n",
    "    print('Your Annual Tax Revenue(ATR) is N5600000')\n",
    "elif years > 20 and age >= 45:\n",
    " print('Your Annual Tax Revenue(ATR) is N4480000')\n",
    "elif years > 10 and age >= 35:\n",
    " print('Your Annual Tax Revenue(ATR) is N1500000')\n",
    "elif years < 10 and age <34:\n",
    "    print('Your Annual Tax Revenue(ATR is N550000')"
   ]
  },
  {
   "cell_type": "code",
   "execution_count": null,
   "id": "f4208770-b9fc-45ac-ba10-fdf2825edb18",
   "metadata": {},
   "outputs": [],
   "source": []
  }
 ],
 "metadata": {
  "kernelspec": {
   "display_name": "Python 3 (ipykernel)",
   "language": "python",
   "name": "python3"
  },
  "language_info": {
   "codemirror_mode": {
    "name": "ipython",
    "version": 3
   },
   "file_extension": ".py",
   "mimetype": "text/x-python",
   "name": "python",
   "nbconvert_exporter": "python",
   "pygments_lexer": "ipython3",
   "version": "3.11.7"
  }
 },
 "nbformat": 4,
 "nbformat_minor": 5
}
