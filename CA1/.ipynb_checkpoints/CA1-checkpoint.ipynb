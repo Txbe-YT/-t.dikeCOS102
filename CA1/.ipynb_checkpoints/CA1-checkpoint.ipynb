{
 "cells": [
  {
   "cell_type": "code",
   "execution_count": 1,
   "id": "5a258a15",
   "metadata": {},
   "outputs": [
    {
     "name": "stdout",
     "output_type": "stream",
     "text": [
      "Welcome to Tobe's ATM site\n",
      "Enter your Name: tobe\n",
      "Input your password :2345\n",
      "Enter your account balance :1200000\n",
      "Your account balance is N1200000.0 \n",
      "\n",
      "ATM Menu:\n",
      "1. Add Money\n",
      "2. Transfer Money\n",
      "3. Check Balance\n",
      "4. Exit\n",
      "Please select an option (1-4): 1\n",
      "Enter amount to add: 134444\n",
      "N134444.0 has been added to your account. New balance is N1334444.0.\n",
      "\n",
      "ATM Menu:\n",
      "1. Add Money\n",
      "2. Transfer Money\n",
      "3. Check Balance\n",
      "4. Exit\n",
      "Please select an option (1-4): 4\n",
      "Thank you for using Tobe's ATM. Goodbye!\n"
     ]
    }
   ],
   "source": [
    "print(\"Welcome to Tobe's ATM site\")\n",
    "\n",
    "NAME = input(\"Enter your Name: \")\n",
    "PIN = int(input(\"Input your password :\"))\n",
    "if PIN != 2345:\n",
    "    print(\"You inputted the wrong password!\")\n",
    "else:\n",
    "    BALANCE = float(input(\"Enter your account balance :\"))\n",
    "    print(f\"Your account balance is N{BALANCE} \")\n",
    "\n",
    "    while True:\n",
    "        print(\"\\nATM Menu:\")\n",
    "        print(\"1. Add Money\")\n",
    "        print(\"2. Transfer Money\")\n",
    "        print(\"3. Check Balance\")\n",
    "        print(\"4. Exit\")\n",
    "        \n",
    "        choice = input(\"Please select an option (1-4): \")\n",
    "\n",
    "        if choice == '1':\n",
    "            amount = float(input(\"Enter amount to add: \"))  \n",
    "            BALANCE += amount\n",
    "            print(f\"N{amount} has been added to your account. New balance is N{BALANCE}.\")\n",
    "        \n",
    "        elif choice == '2':\n",
    "            amount = float(input(\"Enter amount to transfer: \"))\n",
    "            if amount > BALANCE:\n",
    "                print(\"Insufficient funds!\")\n",
    "            else:\n",
    "                BALANCE -= amount\n",
    "                print(f\"N{amount} has been transferred. New balance is N{BALANCE}.\")\n",
    "        \n",
    "        elif choice == '3':\n",
    "            print(f\"Your account balance is N{BALANCE}.\")\n",
    "        \n",
    "        elif choice == '4':\n",
    "            print(\"Thank you for using Tobe's ATM. Goodbye!\")\n",
    "            break\n",
    "        \n",
    "        else:\n",
    "            print(\"Invalid option, please try again.\")\n"
   ]
  },
  {
   "cell_type": "code",
   "execution_count": null,
   "id": "ad8db19e",
   "metadata": {},
   "outputs": [],
   "source": []
  }
 ],
 "metadata": {
  "kernelspec": {
   "display_name": "Python 3 (ipykernel)",
   "language": "python",
   "name": "python3"
  },
  "language_info": {
   "codemirror_mode": {
    "name": "ipython",
    "version": 3
   },
   "file_extension": ".py",
   "mimetype": "text/x-python",
   "name": "python",
   "nbconvert_exporter": "python",
   "pygments_lexer": "ipython3",
   "version": "3.11.7"
  }
 },
 "nbformat": 4,
 "nbformat_minor": 5
}
